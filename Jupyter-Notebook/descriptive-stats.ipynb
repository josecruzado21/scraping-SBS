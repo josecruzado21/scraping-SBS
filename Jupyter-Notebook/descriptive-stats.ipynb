{
 "cells": [
  {
   "cell_type": "markdown",
   "metadata": {},
   "source": [
    "# Visualizing the YTD returns"
   ]
  },
  {
   "cell_type": "code",
   "execution_count": 1,
   "metadata": {},
   "outputs": [],
   "source": [
    "import pandas as pd\n",
    "import seaborn as sns\n",
    "import datetime\n",
    "import matplotlib.pyplot as plt\n",
    "pd.options.display.float_format = '{:,.16f}'.format"
   ]
  },
  {
   "cell_type": "code",
   "execution_count": null,
   "metadata": {},
   "outputs": [],
   "source": [
    "import sys\n",
    "print(sys.path)"
   ]
  },
  {
   "cell_type": "code",
   "execution_count": null,
   "metadata": {},
   "outputs": [],
   "source": [
    "sbs=pd.read_csv('../Data/VC-AFPs.csv',sep=\",\",float_precision='round_trip')\n",
    "try:\n",
    "    sbs['FECHA']=pd.to_datetime(sbs['FECHA'],format=\"%Y-%m-%d\")\n",
    "except:\n",
    "    sbs['FECHA']=pd.to_datetime(sbs['FECHA'],format=\"%d/%m/%Y\")"
   ]
  },
  {
   "cell_type": "code",
   "execution_count": null,
   "metadata": {},
   "outputs": [],
   "source": [
    "last_date=sbs['FECHA'].max()\n",
    "last_date_last_year=datetime.datetime(last_date.year-1,12,31)"
   ]
  },
  {
   "cell_type": "code",
   "execution_count": null,
   "metadata": {},
   "outputs": [],
   "source": [
    "sbs_2=sbs[sbs.FECHA>=last_date_last_year].copy()\n",
    "sbs_3=sbs_2.copy()"
   ]
  },
  {
   "cell_type": "markdown",
   "metadata": {},
   "source": [
    "## Fondo 0"
   ]
  },
  {
   "cell_type": "code",
   "execution_count": null,
   "metadata": {},
   "outputs": [],
   "source": [
    "columns_f0=[i for i in sbs.columns if \"VC-F0\" in i]\n",
    "columns_f0.insert(0,\"FECHA\")"
   ]
  },
  {
   "cell_type": "code",
   "execution_count": null,
   "metadata": {},
   "outputs": [],
   "source": [
    "for i in columns_f0[1:]:\n",
    "    initial_value=sbs_2.loc[sbs_2.FECHA==last_date_last_year,i].values[0]\n",
    "    sbs_3[i]=(sbs_2[i]/initial_value)*100"
   ]
  },
  {
   "cell_type": "code",
   "execution_count": null,
   "metadata": {},
   "outputs": [],
   "source": [
    "df0=sbs_3[columns_f0].copy()\n",
    "df0.columns=['Date','Habitat','Integra','Prima','Profuturo']\n",
    "df0=pd.melt(df0,'Date',var_name='Pension Funds',value_name='Value')"
   ]
  },
  {
   "cell_type": "code",
   "execution_count": null,
   "metadata": {},
   "outputs": [],
   "source": [
    "graph_f0 = plt.gcf()\n",
    "graph_f0.set_size_inches(12, 8);\n",
    "graph_f0=sns.lineplot(x='Date',y='Value',hue='Pension Funds',data=df0)\n",
    "graph_f0.set_title('Pension Funds Fondo 0 Return as of '+ last_date.strftime(\"%d/%m/%Y\"),fontsize=20)\n",
    "graph_f0.set_xlabel('Date',fontsize=15)\n",
    "graph_f0.set_ylabel('YTD Return',fontsize=15)\n",
    "plt.legend(fontsize='x-large', title_fontsize='40');"
   ]
  },
  {
   "cell_type": "code",
   "execution_count": null,
   "metadata": {},
   "outputs": [],
   "source": [
    "graph_f0.get_figure().savefig(\"../doc-source-images/returns_f0.png\")"
   ]
  },
  {
   "cell_type": "markdown",
   "metadata": {},
   "source": [
    "## Fondo 1"
   ]
  },
  {
   "cell_type": "code",
   "execution_count": null,
   "metadata": {},
   "outputs": [],
   "source": [
    "columns_f1=[i for i in sbs.columns if \"VC-F1\" in i]\n",
    "columns_f1.insert(0,\"FECHA\")"
   ]
  },
  {
   "cell_type": "code",
   "execution_count": null,
   "metadata": {},
   "outputs": [],
   "source": [
    "for i in columns_f1[1:]:\n",
    "    initial_value=sbs_2.loc[sbs_2.FECHA==last_date_last_year,i].values[0]\n",
    "    sbs_3[i]=(sbs_2[i]/initial_value)*100"
   ]
  },
  {
   "cell_type": "code",
   "execution_count": null,
   "metadata": {},
   "outputs": [],
   "source": [
    "df1=sbs_3[columns_f1].copy()\n",
    "df1.columns=['Date','Habitat','Integra','Prima','Profuturo']\n",
    "df1=pd.melt(df1,'Date',var_name='Pension Funds',value_name='Value')"
   ]
  },
  {
   "cell_type": "code",
   "execution_count": null,
   "metadata": {},
   "outputs": [],
   "source": [
    "graph_f1 = plt.gcf()\n",
    "graph_f1.set_size_inches(12, 8);\n",
    "graph_f1=sns.lineplot(x='Date',y='Value',hue='Pension Funds',data=df1)\n",
    "graph_f1.set_title('Pension Funds Fondo 1 Return as of '+ last_date.strftime(\"%d/%m/%Y\"),fontsize=20)\n",
    "graph_f1.set_xlabel('Date',fontsize=15)\n",
    "graph_f1.set_ylabel('YTD Return',fontsize=15)\n",
    "plt.legend(fontsize='x-large', title_fontsize='40');"
   ]
  },
  {
   "cell_type": "code",
   "execution_count": null,
   "metadata": {},
   "outputs": [],
   "source": [
    "graph_f1.get_figure().savefig(\"../doc-source-images/returns_f1.png\")"
   ]
  },
  {
   "cell_type": "markdown",
   "metadata": {},
   "source": [
    "## Fondo 2"
   ]
  },
  {
   "cell_type": "code",
   "execution_count": null,
   "metadata": {},
   "outputs": [],
   "source": [
    "columns_f2=[i for i in sbs.columns if \"VC-F2\" in i]\n",
    "columns_f2.insert(0,\"FECHA\")"
   ]
  },
  {
   "cell_type": "code",
   "execution_count": null,
   "metadata": {},
   "outputs": [],
   "source": [
    "for i in columns_f2[1:]:\n",
    "    initial_value=sbs_2.loc[sbs_2.FECHA==last_date_last_year,i].values[0]\n",
    "    sbs_3[i]=(sbs_2[i]/initial_value)*100"
   ]
  },
  {
   "cell_type": "code",
   "execution_count": null,
   "metadata": {},
   "outputs": [],
   "source": [
    "df2=sbs_3[columns_f2].copy()\n",
    "df2.columns=['Date','Habitat','Integra','Prima','Profuturo']\n",
    "df2=pd.melt(df2,'Date',var_name='Pension Funds',value_name='Value')"
   ]
  },
  {
   "cell_type": "code",
   "execution_count": null,
   "metadata": {},
   "outputs": [],
   "source": [
    "graph_f2 = plt.gcf()\n",
    "graph_f2.set_size_inches(12, 8);\n",
    "graph_f2=sns.lineplot('Date','Value',hue='Pension Funds',data=df2)\n",
    "graph_f2.set_title('Pension Funds Fondo 2 Return as of '+ last_date.strftime(\"%d/%m/%Y\"),fontsize=20)\n",
    "graph_f2.set_xlabel('Date',fontsize=15)\n",
    "graph_f2.set_ylabel('YTD Return',fontsize=15)\n",
    "plt.legend(fontsize='x-large', title_fontsize='40');"
   ]
  },
  {
   "cell_type": "code",
   "execution_count": null,
   "metadata": {},
   "outputs": [],
   "source": [
    "graph_f2.get_figure().savefig(\"../doc-source-images/returns_f2.png\")"
   ]
  },
  {
   "cell_type": "markdown",
   "metadata": {},
   "source": [
    "## Fondo 3"
   ]
  },
  {
   "cell_type": "code",
   "execution_count": null,
   "metadata": {},
   "outputs": [],
   "source": [
    "columns_f3=[i for i in sbs.columns if \"VC-F3\" in i]\n",
    "columns_f3.insert(0,\"FECHA\")"
   ]
  },
  {
   "cell_type": "code",
   "execution_count": null,
   "metadata": {},
   "outputs": [],
   "source": [
    "for i in columns_f3[1:]:\n",
    "    initial_value=sbs_2.loc[sbs_2.FECHA==last_date_last_year,i].values[0]\n",
    "    sbs_3[i]=(sbs_2[i]/initial_value)*100"
   ]
  },
  {
   "cell_type": "code",
   "execution_count": null,
   "metadata": {},
   "outputs": [],
   "source": [
    "df3=sbs_3[columns_f3].copy()\n",
    "df3.columns=['Date','Habitat','Integra','Prima','Profuturo']\n",
    "df3=pd.melt(df3,'Date',var_name='Pension Funds',value_name='Value')"
   ]
  },
  {
   "cell_type": "code",
   "execution_count": null,
   "metadata": {},
   "outputs": [],
   "source": [
    "graph_f3 = plt.gcf()\n",
    "graph_f3.set_size_inches(12, 8);\n",
    "graph_f3=sns.lineplot('Date','Value',hue='Pension Funds',data=df3)\n",
    "graph_f3.set_title('Pension Funds Fondo 3 Return as of '+ last_date.strftime(\"%d/%m/%Y\"),fontsize=20)\n",
    "graph_f3.set_xlabel('Date',fontsize=15)\n",
    "graph_f3.set_ylabel('YTD Return',fontsize=15)\n",
    "plt.legend(fontsize='x-large', title_fontsize='40');"
   ]
  },
  {
   "cell_type": "code",
   "execution_count": null,
   "metadata": {},
   "outputs": [],
   "source": [
    "graph_f3.get_figure().savefig(\"../doc-source-images/returns_f3.png\")"
   ]
  }
 ],
 "metadata": {
  "kernelspec": {
   "display_name": "Python 3",
   "language": "python",
   "name": "python3"
  },
  "language_info": {
   "codemirror_mode": {
    "name": "ipython",
    "version": 3
   },
   "file_extension": ".py",
   "mimetype": "text/x-python",
   "name": "python",
   "nbconvert_exporter": "python",
   "pygments_lexer": "ipython3",
   "version": "3.8.5"
  }
 },
 "nbformat": 4,
 "nbformat_minor": 4
}
